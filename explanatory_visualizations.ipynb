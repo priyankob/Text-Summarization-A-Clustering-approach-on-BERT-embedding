{
 "cells": [
  {
   "cell_type": "code",
   "execution_count": 1,
   "metadata": {
    "colab": {
     "base_uri": "https://localhost:8080/",
     "height": 50
    },
    "colab_type": "code",
    "id": "b9F7N7DGNGdF",
    "outputId": "9ddc0a5f-a3ed-4e1b-dd05-bca5ce826eec"
   },
   "outputs": [
    {
     "name": "stderr",
     "output_type": "stream",
     "text": [
      "[nltk_data] Downloading package punkt to\n",
      "[nltk_data]     C:\\Users\\basuc\\AppData\\Roaming\\nltk_data...\n",
      "[nltk_data]   Package punkt is already up-to-date!\n"
     ]
    }
   ],
   "source": [
    "import numpy as np\n",
    "import pandas as pd\n",
    "import nltk\n",
    "nltk.download('punkt')\n",
    "from nltk import sent_tokenize\n",
    "\n",
    "from scipy.spatial.distance import pdist,squareform\n",
    "from sklearn.decomposition import PCA\n",
    "from tensorflow.keras.preprocessing.sequence import pad_sequences\n",
    "import torch\n",
    "import transformers as ppb\n",
    "import matplotlib.pyplot as plt\n",
    "import seaborn as sns\n",
    "import warnings\n",
    "warnings.filterwarnings('ignore')"
   ]
  },
  {
   "cell_type": "code",
   "execution_count": 2,
   "metadata": {
    "colab": {
     "base_uri": "https://localhost:8080/",
     "height": 163,
     "referenced_widgets": [
      "a6de2e872369440ebe1f5130cf50016c",
      "c4c5f9e984254c39a14ee2ac310b821d",
      "7f561b4af6044174bc2d82737f48eef9",
      "d683d0425c614a22abb9f3a5c48f22a2",
      "7c1700bdda4d4a9aaa4722b75504bf0d",
      "f41fe2516bd84b698457725d582ca026",
      "79030bf413bf4a2f881e51df653f22d4",
      "0386c9c4bdde41ab9018f7c513199026",
      "38ad6d39c18c4127a523b52223675823",
      "69b2368f1ace44fca7fb7ef103d69551",
      "f1b97accef7540e6b9c464ae3a612196",
      "7a780ae609ed4e489b1e83b44358a041",
      "d82ba37db2ce47c7b5343b515b42c13a",
      "92fd89b5578247d6a0626f3591d8fe64",
      "130c4a9362de4d719ffb5fc95289440d",
      "cb8ff1734e0746e899f106870a4af26a",
      "4c6d4c8894ce432db1ca8f2043a37b31",
      "f85d4a77e70047f7843a04a878c2e138",
      "ef2a5596607a4d468daa138618fade62",
      "6962514aa37c407c84622aac819bea4e",
      "bde72e5fbd34469c82a98f2776b76b0f",
      "c2414869918d43da943c58f7315cfb3e",
      "6508aff3a2e24cf2b9b1bb9d0eb9a5ce",
      "1bf2bf59828e44a8afd13ee1ca11f52b"
     ]
    },
    "colab_type": "code",
    "id": "346ecnmYS09M",
    "outputId": "c497de15-9c00-4da8-b1db-4ff0ca288e0c"
   },
   "outputs": [],
   "source": [
    "model_class, tokenizer_class, pretrained_weights = (ppb.BertModel, ppb.BertTokenizer, 'bert-base-uncased')\n",
    "PATH = './bert_uncased_save'\n",
    "tokenizer = tokenizer_class.from_pretrained(pretrained_weights)\n",
    "model = model_class.from_pretrained(PATH)"
   ]
  },
  {
   "cell_type": "code",
   "execution_count": 3,
   "metadata": {},
   "outputs": [],
   "source": [
    "paragraph = \"\"\"\"The following exercises are recommended for people during early pregnancy.\n",
    "\n",
    "Kegel exercises, or pelvic floor exercises, work to strengthen the muscles that support the abdominal organs, including the uterus, vagina, bowel, and bladder.\n",
    "\n",
    "These exercises also help maintain control of bladder function and can reduce the risk of hemorrhoids.\n",
    "\n",
    "With an empty bladder, squeeze the Kegel muscles and hold the contraction for 5–10 seconds before relaxing. Try to avoid using any surrounding muscles, such as those of the buttocks, legs, or abs.\n",
    "\n",
    "\n",
    "Walking on a flat, even surface is one of the most gentle, low impact forms of exercise, which makes it ideal for pregnant people.\n",
    "\n",
    "Swinging the arms in wide, rhythmic movements while walking can result in a moderate increase in heart rate. Walking in a calm, natural setting can also help promote well-being and relaxation.\n",
    "\n",
    "A person who is unaccustomed to taking walks could begin by taking a few 10-minute walks every week. During the first trimester, people can gradually build up to taking 30-minute walks three to five times per week, if they choose.\n",
    "\n",
    "People who are accustomed to running can gradually transition from walking to jogging during the first trimester, as long as they use a flat, even surface.\n",
    "\n",
    "Anyone who is taking prolonged walks or jogs should be sure to wear supportive footwear that fits correctly.\n",
    "\n",
    "Swimming and water aerobics\n",
    "Swimming and water aerobics are low impact exercises that can help keep the body toned and do not present a risk of falling.\n",
    "\n",
    "If a person is accustomed to swimming or doing water aerobics, their usual routine will often be safe during the first trimester of pregnancy.\n",
    "\n",
    "If a person is new to swimming, they may want to start by taking two or three 30-minute classes each week. Once they become more confident, they could go for 30-minute sessions a few times per week or as often as feels comfortable for them.\n",
    "\n",
    "\n",
    "Doing yoga allows people to gently stretch and strengthen their body. It also encourages mindfulness skills that can be very helpful during labor, such as controlled breathing and meditation.\n",
    "\n",
    "Many yoga studios offer classes for pregnant people. People who are new to yoga could try to attend one 30-minute session per week.\n",
    "\n",
    "People who are accustomed to doing yoga can often continue with their usual routine during early pregnancy.\n",
    "\n",
    "A person may want to ask a doctor if there are any specific movements, such as lying on the back, that they should avoid.\n",
    "\n",
    "\n",
    "Pilates can improve core strength and balance, which may reduce the risk of falling. It can also help easeTrusted Source lower back pain associated with weight gain, especially in the front of the body.\n",
    "\n",
    "People who are new to Pilates could start gradually by doing a few sessions per week, each lasting 5–10 minutes. They can then work their way toward attending sessions lasting 30–60 minutes.\n",
    "\n",
    "Pregnant people who are accustomed to Pilates can often maintain their usual routine during the first trimester.\n",
    "\n",
    "Again, a person may want to ask a doctor if there are any specific movements that they should avoid.\n",
    "\n",
    "Many studios and gyms offer prenatal Pilates classes, and similar lessons are available online.\n",
    "\n",
    "\n",
    "During the first trimester of pregnancy, it is generally safeTrusted Source to do some moderate weightlifting.\n",
    "\n",
    "Using free weights and weight machines can help a person manage their weight and improve their overall strength. Having a stronger core can also help improve stability and reduce the risk of falling.\n",
    "\n",
    "People should be sure to keep the fetus safe by keeping weights in a safe position. They should also consult a doctor, if possible, to find out if there are any specific movements that they should avoid.\n",
    "\n",
    "People who are new to weightlifting should start gradually and use light free weights.\n",
    "\n",
    "Off-road cycling, such as mountain biking, is not a good option for pregnant people due to the risk of falling and injury.\n",
    "\n",
    "Stationary bikes, spin classes, and safe, flat cycling paths are all alternatives with significantly fewer risks.\n",
    "\n",
    "People who are new to the stationary bike could try cycling for 10–15 minutes at a time. They could then extend their sessions to 30–60 minutes, if comfortable.\n",
    "\n",
    "If a person is used to spinning or using a stationary bike, they can often maintain their regular routine during the first trimester.\"\"\"\"\""
   ]
  },
  {
   "cell_type": "code",
   "execution_count": 4,
   "metadata": {
    "colab": {},
    "colab_type": "code",
    "id": "rqCDnDWqRnAs"
   },
   "outputs": [],
   "source": [
    "paragraph_split = sent_tokenize(paragraph)"
   ]
  },
  {
   "cell_type": "code",
   "execution_count": 5,
   "metadata": {
    "colab": {
     "base_uri": "https://localhost:8080/",
     "height": 33
    },
    "colab_type": "code",
    "id": "ib-JgZ50RpmV",
    "outputId": "0eac8e4b-c8ca-4860-bfdc-a4b555bf5ae5"
   },
   "outputs": [
    {
     "data": {
      "text/plain": [
       "40"
      ]
     },
     "execution_count": 5,
     "metadata": {},
     "output_type": "execute_result"
    }
   ],
   "source": [
    "len(paragraph_split)"
   ]
  },
  {
   "cell_type": "code",
   "execution_count": 6,
   "metadata": {
    "colab": {},
    "colab_type": "code",
    "id": "4b0ffe54R07_"
   },
   "outputs": [],
   "source": [
    "input_tokens = []\n",
    "for i in paragraph_split:\n",
    "    input_tokens.append(tokenizer.encode(i, add_special_tokens=True))"
   ]
  },
  {
   "cell_type": "code",
   "execution_count": 7,
   "metadata": {
    "colab": {
     "base_uri": "https://localhost:8080/",
     "height": 33
    },
    "colab_type": "code",
    "id": "lQ4x96ArSq8k",
    "outputId": "23a72d80-2432-47ca-c03a-b8f4dba24860"
   },
   "outputs": [
    {
     "data": {
      "text/plain": [
       "38"
      ]
     },
     "execution_count": 7,
     "metadata": {},
     "output_type": "execute_result"
    }
   ],
   "source": [
    "temp = []\n",
    "for i in input_tokens:\n",
    "    temp.append(len(i))\n",
    "np.max(temp)  "
   ]
  },
  {
   "cell_type": "code",
   "execution_count": 8,
   "metadata": {
    "colab": {},
    "colab_type": "code",
    "id": "DodMuc3PWa_S"
   },
   "outputs": [],
   "source": [
    "input_ids = pad_sequences(input_tokens, maxlen=100, dtype=\"long\", value=0, truncating=\"post\", padding=\"post\")"
   ]
  },
  {
   "cell_type": "code",
   "execution_count": 9,
   "metadata": {
    "colab": {},
    "colab_type": "code",
    "id": "pGujN-TbT0EO"
   },
   "outputs": [],
   "source": [
    "def create_attention_mask(input_id):\n",
    "    attention_masks = []\n",
    "    for sent in input_ids:\n",
    "        att_mask = [int(token_id > 0) for token_id in sent]  # create a list of 0 and 1.\n",
    "        attention_masks.append(att_mask)  # basically attention_masks is a list of list\n",
    "    return attention_masks"
   ]
  },
  {
   "cell_type": "code",
   "execution_count": 10,
   "metadata": {
    "colab": {},
    "colab_type": "code",
    "id": "sTl4PXfxZEJH"
   },
   "outputs": [],
   "source": [
    "input_masks = create_attention_mask(input_ids)"
   ]
  },
  {
   "cell_type": "code",
   "execution_count": 11,
   "metadata": {
    "colab": {},
    "colab_type": "code",
    "id": "CwwYDBJCaIc5"
   },
   "outputs": [],
   "source": [
    "input_ids = torch.tensor(input_ids)  \n",
    "attention_mask = torch.tensor(input_masks)"
   ]
  },
  {
   "cell_type": "code",
   "execution_count": 12,
   "metadata": {
    "colab": {},
    "colab_type": "code",
    "id": "bpTmWGDrbe3L"
   },
   "outputs": [],
   "source": [
    "with torch.no_grad():\n",
    "    last_hidden_states = model(input_ids, attention_mask=attention_mask)"
   ]
  },
  {
   "cell_type": "code",
   "execution_count": 13,
   "metadata": {},
   "outputs": [],
   "source": [
    "# define mean pooling function\n",
    "def mean_pool(token_embeds, attention_mask):\n",
    "    # reshape attention_mask to cover 768-dimension embeddings\n",
    "    in_mask = attention_mask.unsqueeze(-1).expand(\n",
    "        token_embeds.size()\n",
    "    ).float()\n",
    "    # perform mean-pooling but exclude padding tokens (specified by in_mask)\n",
    "    pool = torch.sum(token_embeds * in_mask, 1) / torch.clamp(\n",
    "        in_mask.sum(1), min=1e-9\n",
    "    )\n",
    "    return pool"
   ]
  },
  {
   "cell_type": "code",
   "execution_count": 14,
   "metadata": {},
   "outputs": [],
   "source": [
    "token_embed = last_hidden_states[0]"
   ]
  },
  {
   "cell_type": "code",
   "execution_count": 15,
   "metadata": {},
   "outputs": [
    {
     "data": {
      "text/plain": [
       "torch.Size([40, 100, 768])"
      ]
     },
     "execution_count": 15,
     "metadata": {},
     "output_type": "execute_result"
    }
   ],
   "source": [
    "token_embed.shape"
   ]
  },
  {
   "cell_type": "code",
   "execution_count": 16,
   "metadata": {},
   "outputs": [],
   "source": [
    "x_final= mean_pool(token_embed,attention_mask)"
   ]
  },
  {
   "cell_type": "code",
   "execution_count": 17,
   "metadata": {},
   "outputs": [
    {
     "data": {
      "text/plain": [
       "torch.Size([40, 768])"
      ]
     },
     "execution_count": 17,
     "metadata": {},
     "output_type": "execute_result"
    }
   ],
   "source": [
    "x_final.shape"
   ]
  },
  {
   "cell_type": "code",
   "execution_count": 18,
   "metadata": {},
   "outputs": [],
   "source": [
    "sentence_features = x_final.detach().numpy()"
   ]
  },
  {
   "cell_type": "code",
   "execution_count": 19,
   "metadata": {
    "colab": {},
    "colab_type": "code",
    "id": "B96EflyNdHbZ"
   },
   "outputs": [],
   "source": [
    "array_similarity = squareform(pdist(sentence_features, metric='euclidean'))"
   ]
  },
  {
   "cell_type": "code",
   "execution_count": 20,
   "metadata": {
    "colab": {
     "base_uri": "https://localhost:8080/",
     "height": 297
    },
    "colab_type": "code",
    "id": "4fEnaiwzeBuJ",
    "outputId": "5cd8d927-ef5f-4114-edb0-3c8084117eb5"
   },
   "outputs": [
    {
     "data": {
      "text/plain": [
       "Text(0.5, 1.0, 'visualizing sentence semantic similarity')"
      ]
     },
     "execution_count": 20,
     "metadata": {},
     "output_type": "execute_result"
    },
    {
     "data": {
      "image/png": "[encoded data removed]",
      "text/plain": [
       "<Figure size 432x288 with 2 Axes>"
      ]
     },
     "metadata": {
      "needs_background": "light"
     },
     "output_type": "display_data"
    }
   ],
   "source": [
    "sns.heatmap(array_similarity)\n",
    "plt.title('visualizing sentence semantic similarity')"
   ]
  },
  {
   "cell_type": "code",
   "execution_count": 21,
   "metadata": {},
   "outputs": [],
   "source": [
    "from sklearn.cluster import KMeans\n",
    "from sklearn.neighbors import NearestNeighbors"
   ]
  },
  {
   "cell_type": "code",
   "execution_count": 22,
   "metadata": {},
   "outputs": [],
   "source": [
    "from sklearn.datasets import fetch_openml\n",
    "from sklearn.decomposition import PCA\n",
    "import numpy as np\n",
    "import matplotlib.pyplot as plt\n",
    "%matplotlib inline\n",
    "\n",
    "# Dimension reduction and clustering libraries\n",
    "import umap\n",
    "import hdbscan\n",
    "import sklearn.cluster as cluster\n",
    "from sklearn.metrics import adjusted_rand_score, adjusted_mutual_info_score"
   ]
  },
  {
   "cell_type": "code",
   "execution_count": 23,
   "metadata": {},
   "outputs": [
    {
     "data": {
      "image/png": "[encoded data removed]",
      "text/plain": [
       "<Figure size 432x288 with 1 Axes>"
      ]
     },
     "metadata": {
      "needs_background": "light"
     },
     "output_type": "display_data"
    }
   ],
   "source": [
    "standard_embedding = umap.UMAP(random_state=42).fit_transform(sentence_features)\n",
    "standard_embedding = umap.UMAP(n_neighbors=3,\n",
    "                               min_dist=0.0,\n",
    "                               n_components=2,\n",
    "                               random_state=42,\n",
    "                              ).fit_transform(sentence_features)\n",
    "hdbscan_labels = hdbscan.HDBSCAN(min_samples=4, min_cluster_size=3).fit_predict(standard_embedding)\n",
    "fig = plt.figure()\n",
    "fig.suptitle('Nbrs 3 , Min Cluster Size 3', fontsize=10)\n",
    "plt.scatter(standard_embedding[:, 0], standard_embedding[:, 1],c=hdbscan_labels, cmap='Dark2' )\n",
    "plt.xlabel('UMAP d1', fontsize=8)\n",
    "plt.ylabel('UMAP d2', fontsize=8)\n",
    "plt.show()"
   ]
  },
  {
   "cell_type": "code",
   "execution_count": 24,
   "metadata": {},
   "outputs": [
    {
     "data": {
      "image/png": "[encoded data removed]",
      "text/plain": [
       "<Figure size 432x288 with 1 Axes>"
      ]
     },
     "metadata": {
      "needs_background": "light"
     },
     "output_type": "display_data"
    }
   ],
   "source": [
    "standard_embedding = umap.UMAP(random_state=42).fit_transform(sentence_features)\n",
    "standard_embedding = umap.UMAP(n_neighbors=3,\n",
    "                               min_dist=0.0,\n",
    "                               n_components=2,\n",
    "                               random_state=42,\n",
    "                              ).fit_transform(sentence_features)\n",
    "hdbscan_labels = hdbscan.HDBSCAN(min_samples=4, min_cluster_size=5).fit_predict(standard_embedding)\n",
    "fig = plt.figure()\n",
    "fig.suptitle('Nbrs 3 , Min Cluster Size 5', fontsize=10)\n",
    "plt.scatter(standard_embedding[:, 0], standard_embedding[:, 1],c=hdbscan_labels, cmap='Dark2' )\n",
    "plt.xlabel('UMAP d1', fontsize=8)\n",
    "plt.ylabel('UMAP d2', fontsize=8)\n",
    "plt.show()"
   ]
  },
  {
   "cell_type": "code",
   "execution_count": 25,
   "metadata": {},
   "outputs": [
    {
     "data": {
      "image/png": "[encoded data removed]",
      "text/plain": [
       "<Figure size 432x288 with 1 Axes>"
      ]
     },
     "metadata": {
      "needs_background": "light"
     },
     "output_type": "display_data"
    }
   ],
   "source": [
    "standard_embedding = umap.UMAP(random_state=42).fit_transform(sentence_features)\n",
    "standard_embedding = umap.UMAP(n_neighbors=3,\n",
    "                               min_dist=0.0,\n",
    "                               n_components=2,\n",
    "                               random_state=42,\n",
    "                              ).fit_transform(sentence_features)\n",
    "hdbscan_labels = hdbscan.HDBSCAN(min_samples=4, min_cluster_size=7).fit_predict(standard_embedding)\n",
    "fig = plt.figure()\n",
    "fig.suptitle('Nbrs 3 , Min Cluster Size 7', fontsize=10)\n",
    "plt.scatter(standard_embedding[:, 0], standard_embedding[:, 1],c=hdbscan_labels, cmap='Dark2' )\n",
    "plt.xlabel('UMAP d1', fontsize=8)\n",
    "plt.ylabel('UMAP d2', fontsize=8)\n",
    "plt.show()"
   ]
  },
  {
   "cell_type": "code",
   "execution_count": 26,
   "metadata": {},
   "outputs": [
    {
     "data": {
      "image/png": "[encoded data removed]",
      "text/plain": [
       "<Figure size 432x288 with 1 Axes>"
      ]
     },
     "metadata": {
      "needs_background": "light"
     },
     "output_type": "display_data"
    }
   ],
   "source": [
    "standard_embedding = umap.UMAP(random_state=42).fit_transform(sentence_features)\n",
    "standard_embedding = umap.UMAP(n_neighbors=3,\n",
    "                               min_dist=0.0,\n",
    "                               n_components=2,\n",
    "                               random_state=42,\n",
    "                              ).fit_transform(sentence_features)\n",
    "hdbscan_labels = hdbscan.HDBSCAN(min_samples=4, min_cluster_size=2).fit_predict(standard_embedding)\n",
    "fig = plt.figure()\n",
    "fig.suptitle('Min Cluster Size 2, Nbrs 3', fontsize=10)\n",
    "plt.scatter(standard_embedding[:, 0], standard_embedding[:, 1],c=hdbscan_labels, cmap='Dark2' )\n",
    "plt.xlabel('UMAP d1', fontsize=8)\n",
    "plt.ylabel('UMAP d2', fontsize=8)\n",
    "plt.show()"
   ]
  },
  {
   "cell_type": "code",
   "execution_count": 27,
   "metadata": {},
   "outputs": [
    {
     "data": {
      "image/png": "[encoded data removed]",
      "text/plain": [
       "<Figure size 432x288 with 1 Axes>"
      ]
     },
     "metadata": {
      "needs_background": "light"
     },
     "output_type": "display_data"
    }
   ],
   "source": [
    "standard_embedding = umap.UMAP(random_state=42).fit_transform(sentence_features)\n",
    "standard_embedding = umap.UMAP(n_neighbors=7,\n",
    "                               min_dist=0.0,\n",
    "                               n_components=2,\n",
    "                               random_state=42,\n",
    "                              ).fit_transform(sentence_features)\n",
    "hdbscan_labels = hdbscan.HDBSCAN(min_samples=4, min_cluster_size=2).fit_predict(standard_embedding)\n",
    "fig = plt.figure()\n",
    "fig.suptitle('Min Cluster Size 2, Nbrs 7', fontsize=10)\n",
    "plt.scatter(standard_embedding[:, 0], standard_embedding[:, 1],c=hdbscan_labels, cmap='Dark2' )\n",
    "plt.xlabel('UMAP d1', fontsize=8)\n",
    "plt.ylabel('UMAP d2', fontsize=8)\n",
    "plt.show()"
   ]
  },
  {
   "cell_type": "code",
   "execution_count": null,
   "metadata": {},
   "outputs": [],
   "source": [
    "standard_embedding = umap.UMAP(random_state=42).fit_transform(sentence_features)\n",
    "standard_embedding = umap.UMAP(n_neighbors=11,\n",
    "                               min_dist=0.0,\n",
    "                               n_components=2,\n",
    "                               random_state=42,\n",
    "                              ).fit_transform(sentence_features)\n",
    "hdbscan_labels = hdbscan.HDBSCAN(min_samples=4, min_cluster_size=3).fit_predict(standard_embedding)\n",
    "fig = plt.figure()\n",
    "fig.suptitle('Min Cluster Size 2, Nbrs 11', fontsize=10)\n",
    "plt.scatter(standard_embedding[:, 0], standard_embedding[:, 1],c=hdbscan_labels, cmap='Dark2' )\n",
    "plt.xlabel('UMAP d1', fontsize=8)\n",
    "plt.ylabel('UMAP d2', fontsize=8)\n",
    "plt.show()"
   ]
  }
 ],
 "metadata": {
  "colab": {
   "authorship_tag": "ABX9TyM0haplNl4jYRBzd/voqGAR",
   "include_colab_link": true,
   "mount_file_id": "1jwJyJxDaAuLduDVmeDWiG7tKtOxcARon",
   "name": "Primer to BERT extractive summarization March 25 2020.ipynb",
   "provenance": []
  },
  "kernelspec": {
   "display_name": "Python 3",
   "language": "python",
   "name": "python3"
  },
  "language_info": {
   "codemirror_mode": {
    "name": "ipython",
    "version": 3
   },
   "file_extension": ".py",
   "mimetype": "text/x-python",
   "name": "python",
   "nbconvert_exporter": "python",
   "pygments_lexer": "ipython3",
   "version": "3.8.5"
  },
  "widgets": {
   "application/vnd.jupyter.widget-state+json": {
    "0386c9c4bdde41ab9018f7c513199026": {
     "model_module": "@jupyter-widgets/base",
     "model_name": "LayoutModel",
     "state": {
      "_model_module": "@jupyter-widgets/base",
      "_model_module_version": "1.2.0",
      "_model_name": "LayoutModel",
      "_view_count": null,
      "_view_module": "@jupyter-widgets/base",
      "_view_module_version": "1.2.0",
      "_view_name": "LayoutView",
      "align_content": null,
      "align_items": null,
      "align_self": null,
      "border": null,
      "bottom": null,
      "display": null,
      "flex": null,
      "flex_flow": null,
      "grid_area": null,
      "grid_auto_columns": null,
      "grid_auto_flow": null,
      "grid_auto_rows": null,
      "grid_column": null,
      "grid_gap": null,
      "grid_row": null,
      "grid_template_areas": null,
      "grid_template_columns": null,
      "grid_template_rows": null,
      "height": null,
      "justify_content": null,
      "justify_items": null,
      "left": null,
      "margin": null,
      "max_height": null,
      "max_width": null,
      "min_height": null,
      "min_width": null,
      "object_fit": null,
      "object_position": null,
      "order": null,
      "overflow": null,
      "overflow_x": null,
      "overflow_y": null,
      "padding": null,
      "right": null,
      "top": null,
      "visibility": null,
      "width": null
     }
    },
    "130c4a9362de4d719ffb5fc95289440d": {
     "model_module": "@jupyter-widgets/controls",
     "model_name": "DescriptionStyleModel",
     "state": {
      "_model_module": "@jupyter-widgets/controls",
      "_model_module_version": "1.5.0",
      "_model_name": "DescriptionStyleModel",
      "_view_count": null,
      "_view_module": "@jupyter-widgets/base",
      "_view_module_version": "1.2.0",
      "_view_name": "StyleView",
      "description_width": ""
     }
    },
    "1bf2bf59828e44a8afd13ee1ca11f52b": {
     "model_module": "@jupyter-widgets/base",
     "model_name": "LayoutModel",
     "state": {
      "_model_module": "@jupyter-widgets/base",
      "_model_module_version": "1.2.0",
      "_model_name": "LayoutModel",
      "_view_count": null,
      "_view_module": "@jupyter-widgets/base",
      "_view_module_version": "1.2.0",
      "_view_name": "LayoutView",
      "align_content": null,
      "align_items": null,
      "align_self": null,
      "border": null,
      "bottom": null,
      "display": null,
      "flex": null,
      "flex_flow": null,
      "grid_area": null,
      "grid_auto_columns": null,
      "grid_auto_flow": null,
      "grid_auto_rows": null,
      "grid_column": null,
      "grid_gap": null,
      "grid_row": null,
      "grid_template_areas": null,
      "grid_template_columns": null,
      "grid_template_rows": null,
      "height": null,
      "justify_content": null,
      "justify_items": null,
      "left": null,
      "margin": null,
      "max_height": null,
      "max_width": null,
      "min_height": null,
      "min_width": null,
      "object_fit": null,
      "object_position": null,
      "order": null,
      "overflow": null,
      "overflow_x": null,
      "overflow_y": null,
      "padding": null,
      "right": null,
      "top": null,
      "visibility": null,
      "width": null
     }
    },
    "38ad6d39c18c4127a523b52223675823": {
     "model_module": "@jupyter-widgets/controls",
     "model_name": "HBoxModel",
     "state": {
      "_dom_classes": [],
      "_model_module": "@jupyter-widgets/controls",
      "_model_module_version": "1.5.0",
      "_model_name": "HBoxModel",
      "_view_count": null,
      "_view_module": "@jupyter-widgets/controls",
      "_view_module_version": "1.5.0",
      "_view_name": "HBoxView",
      "box_style": "",
      "children": [
       "IPY_MODEL_f1b97accef7540e6b9c464ae3a612196",
       "IPY_MODEL_7a780ae609ed4e489b1e83b44358a041"
      ],
      "layout": "IPY_MODEL_69b2368f1ace44fca7fb7ef103d69551"
     }
    },
    "4c6d4c8894ce432db1ca8f2043a37b31": {
     "model_module": "@jupyter-widgets/controls",
     "model_name": "HBoxModel",
     "state": {
      "_dom_classes": [],
      "_model_module": "@jupyter-widgets/controls",
      "_model_module_version": "1.5.0",
      "_model_name": "HBoxModel",
      "_view_count": null,
      "_view_module": "@jupyter-widgets/controls",
      "_view_module_version": "1.5.0",
      "_view_name": "HBoxView",
      "box_style": "",
      "children": [
       "IPY_MODEL_ef2a5596607a4d468daa138618fade62",
       "IPY_MODEL_6962514aa37c407c84622aac819bea4e"
      ],
      "layout": "IPY_MODEL_f85d4a77e70047f7843a04a878c2e138"
     }
    },
    "6508aff3a2e24cf2b9b1bb9d0eb9a5ce": {
     "model_module": "@jupyter-widgets/controls",
     "model_name": "DescriptionStyleModel",
     "state": {
      "_model_module": "@jupyter-widgets/controls",
      "_model_module_version": "1.5.0",
      "_model_name": "DescriptionStyleModel",
      "_view_count": null,
      "_view_module": "@jupyter-widgets/base",
      "_view_module_version": "1.2.0",
      "_view_name": "StyleView",
      "description_width": ""
     }
    },
    "6962514aa37c407c84622aac819bea4e": {
     "model_module": "@jupyter-widgets/controls",
     "model_name": "HTMLModel",
     "state": {
      "_dom_classes": [],
      "_model_module": "@jupyter-widgets/controls",
      "_model_module_version": "1.5.0",
      "_model_name": "HTMLModel",
      "_view_count": null,
      "_view_module": "@jupyter-widgets/controls",
      "_view_module_version": "1.5.0",
      "_view_name": "HTMLView",
      "description": "",
      "description_tooltip": null,
      "layout": "IPY_MODEL_1bf2bf59828e44a8afd13ee1ca11f52b",
      "placeholder": "​",
      "style": "IPY_MODEL_6508aff3a2e24cf2b9b1bb9d0eb9a5ce",
      "value": " 268M/268M [00:04&lt;00:00, 62.8MB/s]"
     }
    },
    "69b2368f1ace44fca7fb7ef103d69551": {
     "model_module": "@jupyter-widgets/base",
     "model_name": "LayoutModel",
     "state": {
      "_model_module": "@jupyter-widgets/base",
      "_model_module_version": "1.2.0",
      "_model_name": "LayoutModel",
      "_view_count": null,
      "_view_module": "@jupyter-widgets/base",
      "_view_module_version": "1.2.0",
      "_view_name": "LayoutView",
      "align_content": null,
      "align_items": null,
      "align_self": null,
      "border": null,
      "bottom": null,
      "display": null,
      "flex": null,
      "flex_flow": null,
      "grid_area": null,
      "grid_auto_columns": null,
      "grid_auto_flow": null,
      "grid_auto_rows": null,
      "grid_column": null,
      "grid_gap": null,
      "grid_row": null,
      "grid_template_areas": null,
      "grid_template_columns": null,
      "grid_template_rows": null,
      "height": null,
      "justify_content": null,
      "justify_items": null,
      "left": null,
      "margin": null,
      "max_height": null,
      "max_width": null,
      "min_height": null,
      "min_width": null,
      "object_fit": null,
      "object_position": null,
      "order": null,
      "overflow": null,
      "overflow_x": null,
      "overflow_y": null,
      "padding": null,
      "right": null,
      "top": null,
      "visibility": null,
      "width": null
     }
    },
    "79030bf413bf4a2f881e51df653f22d4": {
     "model_module": "@jupyter-widgets/controls",
     "model_name": "DescriptionStyleModel",
     "state": {
      "_model_module": "@jupyter-widgets/controls",
      "_model_module_version": "1.5.0",
      "_model_name": "DescriptionStyleModel",
      "_view_count": null,
      "_view_module": "@jupyter-widgets/base",
      "_view_module_version": "1.2.0",
      "_view_name": "StyleView",
      "description_width": ""
     }
    },
    "7a780ae609ed4e489b1e83b44358a041": {
     "model_module": "@jupyter-widgets/controls",
     "model_name": "HTMLModel",
     "state": {
      "_dom_classes": [],
      "_model_module": "@jupyter-widgets/controls",
      "_model_module_version": "1.5.0",
      "_model_name": "HTMLModel",
      "_view_count": null,
      "_view_module": "@jupyter-widgets/controls",
      "_view_module_version": "1.5.0",
      "_view_name": "HTMLView",
      "description": "",
      "description_tooltip": null,
      "layout": "IPY_MODEL_cb8ff1734e0746e899f106870a4af26a",
      "placeholder": "​",
      "style": "IPY_MODEL_130c4a9362de4d719ffb5fc95289440d",
      "value": " 546/546 [00:04&lt;00:00, 119B/s]"
     }
    },
    "7c1700bdda4d4a9aaa4722b75504bf0d": {
     "model_module": "@jupyter-widgets/controls",
     "model_name": "ProgressStyleModel",
     "state": {
      "_model_module": "@jupyter-widgets/controls",
      "_model_module_version": "1.5.0",
      "_model_name": "ProgressStyleModel",
      "_view_count": null,
      "_view_module": "@jupyter-widgets/base",
      "_view_module_version": "1.2.0",
      "_view_name": "StyleView",
      "bar_color": null,
      "description_width": "initial"
     }
    },
    "7f561b4af6044174bc2d82737f48eef9": {
     "model_module": "@jupyter-widgets/controls",
     "model_name": "IntProgressModel",
     "state": {
      "_dom_classes": [],
      "_model_module": "@jupyter-widgets/controls",
      "_model_module_version": "1.5.0",
      "_model_name": "IntProgressModel",
      "_view_count": null,
      "_view_module": "@jupyter-widgets/controls",
      "_view_module_version": "1.5.0",
      "_view_name": "ProgressView",
      "bar_style": "success",
      "description": "Downloading: 100%",
      "description_tooltip": null,
      "layout": "IPY_MODEL_f41fe2516bd84b698457725d582ca026",
      "max": 231508,
      "min": 0,
      "orientation": "horizontal",
      "style": "IPY_MODEL_7c1700bdda4d4a9aaa4722b75504bf0d",
      "value": 231508
     }
    },
    "92fd89b5578247d6a0626f3591d8fe64": {
     "model_module": "@jupyter-widgets/base",
     "model_name": "LayoutModel",
     "state": {
      "_model_module": "@jupyter-widgets/base",
      "_model_module_version": "1.2.0",
      "_model_name": "LayoutModel",
      "_view_count": null,
      "_view_module": "@jupyter-widgets/base",
      "_view_module_version": "1.2.0",
      "_view_name": "LayoutView",
      "align_content": null,
      "align_items": null,
      "align_self": null,
      "border": null,
      "bottom": null,
      "display": null,
      "flex": null,
      "flex_flow": null,
      "grid_area": null,
      "grid_auto_columns": null,
      "grid_auto_flow": null,
      "grid_auto_rows": null,
      "grid_column": null,
      "grid_gap": null,
      "grid_row": null,
      "grid_template_areas": null,
      "grid_template_columns": null,
      "grid_template_rows": null,
      "height": null,
      "justify_content": null,
      "justify_items": null,
      "left": null,
      "margin": null,
      "max_height": null,
      "max_width": null,
      "min_height": null,
      "min_width": null,
      "object_fit": null,
      "object_position": null,
      "order": null,
      "overflow": null,
      "overflow_x": null,
      "overflow_y": null,
      "padding": null,
      "right": null,
      "top": null,
      "visibility": null,
      "width": null
     }
    },
    "a6de2e872369440ebe1f5130cf50016c": {
     "model_module": "@jupyter-widgets/controls",
     "model_name": "HBoxModel",
     "state": {
      "_dom_classes": [],
      "_model_module": "@jupyter-widgets/controls",
      "_model_module_version": "1.5.0",
      "_model_name": "HBoxModel",
      "_view_count": null,
      "_view_module": "@jupyter-widgets/controls",
      "_view_module_version": "1.5.0",
      "_view_name": "HBoxView",
      "box_style": "",
      "children": [
       "IPY_MODEL_7f561b4af6044174bc2d82737f48eef9",
       "IPY_MODEL_d683d0425c614a22abb9f3a5c48f22a2"
      ],
      "layout": "IPY_MODEL_c4c5f9e984254c39a14ee2ac310b821d"
     }
    },
    "bde72e5fbd34469c82a98f2776b76b0f": {
     "model_module": "@jupyter-widgets/controls",
     "model_name": "ProgressStyleModel",
     "state": {
      "_model_module": "@jupyter-widgets/controls",
      "_model_module_version": "1.5.0",
      "_model_name": "ProgressStyleModel",
      "_view_count": null,
      "_view_module": "@jupyter-widgets/base",
      "_view_module_version": "1.2.0",
      "_view_name": "StyleView",
      "bar_color": null,
      "description_width": "initial"
     }
    },
    "c2414869918d43da943c58f7315cfb3e": {
     "model_module": "@jupyter-widgets/base",
     "model_name": "LayoutModel",
     "state": {
      "_model_module": "@jupyter-widgets/base",
      "_model_module_version": "1.2.0",
      "_model_name": "LayoutModel",
      "_view_count": null,
      "_view_module": "@jupyter-widgets/base",
      "_view_module_version": "1.2.0",
      "_view_name": "LayoutView",
      "align_content": null,
      "align_items": null,
      "align_self": null,
      "border": null,
      "bottom": null,
      "display": null,
      "flex": null,
      "flex_flow": null,
      "grid_area": null,
      "grid_auto_columns": null,
      "grid_auto_flow": null,
      "grid_auto_rows": null,
      "grid_column": null,
      "grid_gap": null,
      "grid_row": null,
      "grid_template_areas": null,
      "grid_template_columns": null,
      "grid_template_rows": null,
      "height": null,
      "justify_content": null,
      "justify_items": null,
      "left": null,
      "margin": null,
      "max_height": null,
      "max_width": null,
      "min_height": null,
      "min_width": null,
      "object_fit": null,
      "object_position": null,
      "order": null,
      "overflow": null,
      "overflow_x": null,
      "overflow_y": null,
      "padding": null,
      "right": null,
      "top": null,
      "visibility": null,
      "width": null
     }
    },
    "c4c5f9e984254c39a14ee2ac310b821d": {
     "model_module": "@jupyter-widgets/base",
     "model_name": "LayoutModel",
     "state": {
      "_model_module": "@jupyter-widgets/base",
      "_model_module_version": "1.2.0",
      "_model_name": "LayoutModel",
      "_view_count": null,
      "_view_module": "@jupyter-widgets/base",
      "_view_module_version": "1.2.0",
      "_view_name": "LayoutView",
      "align_content": null,
      "align_items": null,
      "align_self": null,
      "border": null,
      "bottom": null,
      "display": null,
      "flex": null,
      "flex_flow": null,
      "grid_area": null,
      "grid_auto_columns": null,
      "grid_auto_flow": null,
      "grid_auto_rows": null,
      "grid_column": null,
      "grid_gap": null,
      "grid_row": null,
      "grid_template_areas": null,
      "grid_template_columns": null,
      "grid_template_rows": null,
      "height": null,
      "justify_content": null,
      "justify_items": null,
      "left": null,
      "margin": null,
      "max_height": null,
      "max_width": null,
      "min_height": null,
      "min_width": null,
      "object_fit": null,
      "object_position": null,
      "order": null,
      "overflow": null,
      "overflow_x": null,
      "overflow_y": null,
      "padding": null,
      "right": null,
      "top": null,
      "visibility": null,
      "width": null
     }
    },
    "cb8ff1734e0746e899f106870a4af26a": {
     "model_module": "@jupyter-widgets/base",
     "model_name": "LayoutModel",
     "state": {
      "_model_module": "@jupyter-widgets/base",
      "_model_module_version": "1.2.0",
      "_model_name": "LayoutModel",
      "_view_count": null,
      "_view_module": "@jupyter-widgets/base",
      "_view_module_version": "1.2.0",
      "_view_name": "LayoutView",
      "align_content": null,
      "align_items": null,
      "align_self": null,
      "border": null,
      "bottom": null,
      "display": null,
      "flex": null,
      "flex_flow": null,
      "grid_area": null,
      "grid_auto_columns": null,
      "grid_auto_flow": null,
      "grid_auto_rows": null,
      "grid_column": null,
      "grid_gap": null,
      "grid_row": null,
      "grid_template_areas": null,
      "grid_template_columns": null,
      "grid_template_rows": null,
      "height": null,
      "justify_content": null,
      "justify_items": null,
      "left": null,
      "margin": null,
      "max_height": null,
      "max_width": null,
      "min_height": null,
      "min_width": null,
      "object_fit": null,
      "object_position": null,
      "order": null,
      "overflow": null,
      "overflow_x": null,
      "overflow_y": null,
      "padding": null,
      "right": null,
      "top": null,
      "visibility": null,
      "width": null
     }
    },
    "d683d0425c614a22abb9f3a5c48f22a2": {
     "model_module": "@jupyter-widgets/controls",
     "model_name": "HTMLModel",
     "state": {
      "_dom_classes": [],
      "_model_module": "@jupyter-widgets/controls",
      "_model_module_version": "1.5.0",
      "_model_name": "HTMLModel",
      "_view_count": null,
      "_view_module": "@jupyter-widgets/controls",
      "_view_module_version": "1.5.0",
      "_view_name": "HTMLView",
      "description": "",
      "description_tooltip": null,
      "layout": "IPY_MODEL_0386c9c4bdde41ab9018f7c513199026",
      "placeholder": "​",
      "style": "IPY_MODEL_79030bf413bf4a2f881e51df653f22d4",
      "value": " 232k/232k [51:43&lt;00:00, 74.6B/s]"
     }
    },
    "d82ba37db2ce47c7b5343b515b42c13a": {
     "model_module": "@jupyter-widgets/controls",
     "model_name": "ProgressStyleModel",
     "state": {
      "_model_module": "@jupyter-widgets/controls",
      "_model_module_version": "1.5.0",
      "_model_name": "ProgressStyleModel",
      "_view_count": null,
      "_view_module": "@jupyter-widgets/base",
      "_view_module_version": "1.2.0",
      "_view_name": "StyleView",
      "bar_color": null,
      "description_width": "initial"
     }
    },
    "ef2a5596607a4d468daa138618fade62": {
     "model_module": "@jupyter-widgets/controls",
     "model_name": "IntProgressModel",
     "state": {
      "_dom_classes": [],
      "_model_module": "@jupyter-widgets/controls",
      "_model_module_version": "1.5.0",
      "_model_name": "IntProgressModel",
      "_view_count": null,
      "_view_module": "@jupyter-widgets/controls",
      "_view_module_version": "1.5.0",
      "_view_name": "ProgressView",
      "bar_style": "success",
      "description": "Downloading: 100%",
      "description_tooltip": null,
      "layout": "IPY_MODEL_c2414869918d43da943c58f7315cfb3e",
      "max": 267967963,
      "min": 0,
      "orientation": "horizontal",
      "style": "IPY_MODEL_bde72e5fbd34469c82a98f2776b76b0f",
      "value": 267967963
     }
    },
    "f1b97accef7540e6b9c464ae3a612196": {
     "model_module": "@jupyter-widgets/controls",
     "model_name": "IntProgressModel",
     "state": {
      "_dom_classes": [],
      "_model_module": "@jupyter-widgets/controls",
      "_model_module_version": "1.5.0",
      "_model_name": "IntProgressModel",
      "_view_count": null,
      "_view_module": "@jupyter-widgets/controls",
      "_view_module_version": "1.5.0",
      "_view_name": "ProgressView",
      "bar_style": "success",
      "description": "Downloading: 100%",
      "description_tooltip": null,
      "layout": "IPY_MODEL_92fd89b5578247d6a0626f3591d8fe64",
      "max": 546,
      "min": 0,
      "orientation": "horizontal",
      "style": "IPY_MODEL_d82ba37db2ce47c7b5343b515b42c13a",
      "value": 546
     }
    },
    "f41fe2516bd84b698457725d582ca026": {
     "model_module": "@jupyter-widgets/base",
     "model_name": "LayoutModel",
     "state": {
      "_model_module": "@jupyter-widgets/base",
      "_model_module_version": "1.2.0",
      "_model_name": "LayoutModel",
      "_view_count": null,
      "_view_module": "@jupyter-widgets/base",
      "_view_module_version": "1.2.0",
      "_view_name": "LayoutView",
      "align_content": null,
      "align_items": null,
      "align_self": null,
      "border": null,
      "bottom": null,
      "display": null,
      "flex": null,
      "flex_flow": null,
      "grid_area": null,
      "grid_auto_columns": null,
      "grid_auto_flow": null,
      "grid_auto_rows": null,
      "grid_column": null,
      "grid_gap": null,
      "grid_row": null,
      "grid_template_areas": null,
      "grid_template_columns": null,
      "grid_template_rows": null,
      "height": null,
      "justify_content": null,
      "justify_items": null,
      "left": null,
      "margin": null,
      "max_height": null,
      "max_width": null,
      "min_height": null,
      "min_width": null,
      "object_fit": null,
      "object_position": null,
      "order": null,
      "overflow": null,
      "overflow_x": null,
      "overflow_y": null,
      "padding": null,
      "right": null,
      "top": null,
      "visibility": null,
      "width": null
     }
    },
    "f85d4a77e70047f7843a04a878c2e138": {
     "model_module": "@jupyter-widgets/base",
     "model_name": "LayoutModel",
     "state": {
      "_model_module": "@jupyter-widgets/base",
      "_model_module_version": "1.2.0",
      "_model_name": "LayoutModel",
      "_view_count": null,
      "_view_module": "@jupyter-widgets/base",
      "_view_module_version": "1.2.0",
      "_view_name": "LayoutView",
      "align_content": null,
      "align_items": null,
      "align_self": null,
      "border": null,
      "bottom": null,
      "display": null,
      "flex": null,
      "flex_flow": null,
      "grid_area": null,
      "grid_auto_columns": null,
      "grid_auto_flow": null,
      "grid_auto_rows": null,
      "grid_column": null,
      "grid_gap": null,
      "grid_row": null,
      "grid_template_areas": null,
      "grid_template_columns": null,
      "grid_template_rows": null,
      "height": null,
      "justify_content": null,
      "justify_items": null,
      "left": null,
      "margin": null,
      "max_height": null,
      "max_width": null,
      "min_height": null,
      "min_width": null,
      "object_fit": null,
      "object_position": null,
      "order": null,
      "overflow": null,
      "overflow_x": null,
      "overflow_y": null,
      "padding": null,
      "right": null,
      "top": null,
      "visibility": null,
      "width": null
     }
    }
   }
  }
 },
 "nbformat": 4,
 "nbformat_minor": 1
}
